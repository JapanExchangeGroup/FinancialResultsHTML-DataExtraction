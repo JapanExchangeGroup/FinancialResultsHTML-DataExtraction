{
 "cells": [
  {
   "cell_type": "markdown",
   "metadata": {},
   "source": [
    "# HTML から情報を抽出する方法を学ぶ\n",
    "\n",
    "このNotebookで、Pythonを用いてHTMLから必要な情報を抽出するための手法を学ぶことができます。\n",
    "\n",
    "## HTML とは\n",
    "\n",
    "**HTML(HyperText Markup Language) は、「 Web ページを記述するためのマークアップ言語」です**。最新の HTML5 は、 HTML 形式でも XML 形式でも記述できます(※1)。 HTML を定義が厳密な XML に寄せ、 Web ページのデータ化を推進する XHTML (※2)がかつて検討されていましたが、現在この流れはなくなりました。つまり、 HTML からのデータ抽出は今後も完全に機械的に行うことは困難です。\n",
    "\n",
    "![html_history.jpg](images/html_history.jpg)\n",
    "\n",
    "[「HTMLの方向性とXMLの位置付け～HTML5の概要と注目機能～」より引用](http://x-plus.utj.co.jp/xml-exp/32-tokushu.html)\n",
    "\n",
    "※1: HTML5の標準化はHTML/XMLをパースした後のDOMのレベルで行われています。\n",
    "※2: XHTMLはXBRLの表示に利用されています。\n",
    "\n",
    "HTML は、パーサーと呼ばれるツールで解析をします。パーサーは HTML (もしくは XML )の文字列を、プログラムから扱えるオブジェクトのツリーに変換します。オブジェクトのツリーを Document Object Model 、DOM と呼びます。シリアライザは、逆にDOMをHTML/XMLに変換します。\n",
    "\n",
    "![html_parser.png](images/html_parser.png)\n",
    "\n",
    "[「Constructing the Object Model」より引用](https://web.dev/critical-rendering-path-constructing-the-object-model/)\n",
    "\n",
    "## Python による HTML からの情報抽出\n",
    "\n",
    "[BeautifulSoup](https://www.crummy.com/software/BeautifulSoup/bs4/doc/) は Python からパーサーを操作するための代表的なライブラリです。 BeautifulSoup からパーサーを操作することで、 HTML / XML を Python オブジェクトのツリーに変換できます。  \n",
    "BeautifulSoup からは、 `html.parser` 、 `lxml` 、 `html5lib` などのパーサーが利用できます。パーサーによって実行速度やパースの方法に違いがあります(詳細は[ドキュメント](https://www.crummy.com/software/BeautifulSoup/bs4/doc/#installing-a-parser)をご参照ください)。 Python 標準の `html.parser` 以外は、別途インストールが必要です。\n",
    "\n",
    "なお、 BeautifulSoup は MIT ライセンスのソフトウェアです。会社で使用する場合は [Tidelift のサポート](https://tidelift.com/subscription/pkg/pypi-beautifulsoup4)を受けることもできます。\n",
    "\n",
    "HTML からの情報抽出は基本的に次の 2 ステップです。\n",
    "\n",
    "1. 目的の情報がある HTML 要素を取得する\n",
    "2. HTML 要素からデータを抽出する\n",
    "\n",
    "1 ができてしまえば、 2 は比較的簡単です。本 Notebook では、 1 の方法として「検索」と「移動」を学びます。\n",
    "\n",
    "## Exercise1: 目的の HTML 要素を検索する\n",
    "\n",
    "目的の情報があるHTML要素を取得する一番簡単な方法は、検索することです。 [`find`](https://www.crummy.com/software/BeautifulSoup/bs4/doc/#find) を利用することで検索ができます。\n",
    "\n",
    "唐突ですが、 AWS Japan のオフィスは目黒にあります。山手線の目黒駅周辺の駅をいくつかピックアップし、 HTML で表現してみました。"
   ]
  },
  {
   "cell_type": "code",
   "execution_count": 1,
   "metadata": {},
   "outputs": [],
   "source": [
    "html_content = \"\"\"\n",
    "<!DOCTYPE html>\n",
    "<html>\n",
    "   <head>\n",
    "      <style>\n",
    "         #yamanote table, td {border: 1px solid silver;}\n",
    "         .aws {font-weight:bold; color:#f78e00}\n",
    "      </style>\n",
    "   </head>\n",
    "   <body>\n",
    "      <table id='yamanote' class='yamanote' border=\"1\">\n",
    "         <tr><td id='oosaki'>大崎</td></tr>\n",
    "         <tr><td id='gotanda'>五反田</td></tr>\n",
    "         <tr><td id='meguro' class='aws'>目黒</td></tr>\n",
    "         <tr><td id='ebisu'>恵比寿</td></tr>\n",
    "         <tr><td id='shibuya'>渋谷</td></tr>\n",
    "      </table>\n",
    "   </body>\n",
    "<html>\n",
    "\"\"\""
   ]
  },
  {
   "cell_type": "markdown",
   "metadata": {},
   "source": [
    "このHTMLは、表示すると次のようになります。"
   ]
  },
  {
   "cell_type": "code",
   "execution_count": 2,
   "metadata": {},
   "outputs": [
    {
     "data": {
      "text/html": [
       "\n",
       "<!DOCTYPE html>\n",
       "<html>\n",
       "   <head>\n",
       "      <style>\n",
       "         #yamanote table, td {border: 1px solid silver;}\n",
       "         .aws {font-weight:bold; color:#f78e00}\n",
       "      </style>\n",
       "   </head>\n",
       "   <body>\n",
       "      <table id='yamanote' class='yamanote' border=\"1\">\n",
       "         <tr><td id='oosaki'>大崎</td></tr>\n",
       "         <tr><td id='gotanda'>五反田</td></tr>\n",
       "         <tr><td id='meguro' class='aws'>目黒</td></tr>\n",
       "         <tr><td id='ebisu'>恵比寿</td></tr>\n",
       "         <tr><td id='shibuya'>渋谷</td></tr>\n",
       "      </table>\n",
       "   </body>\n",
       "<html>\n"
      ],
      "text/plain": [
       "<IPython.core.display.HTML object>"
      ]
     },
     "execution_count": 2,
     "metadata": {},
     "output_type": "execute_result"
    }
   ],
   "source": [
    "from IPython.display import HTML\n",
    "\n",
    "\n",
    "HTML(html_content)"
   ]
  },
  {
   "cell_type": "markdown",
   "metadata": {},
   "source": [
    "これから、 BeautifulSoup を使用しこの HTML から「目黒」の HTML 要素を取得します。はじめに、 BeautifulSoup で HTML を読み込みます。"
   ]
  },
  {
   "cell_type": "code",
   "execution_count": 3,
   "metadata": {},
   "outputs": [],
   "source": [
    "from bs4 import BeautifulSoup\n",
    "\n",
    "\n",
    "html = BeautifulSoup(html_content.strip())"
   ]
  },
  {
   "cell_type": "markdown",
   "metadata": {},
   "source": [
    "次に、目黒の HTML 要素を取得してみましょう。ヒントとして、恵比寿を取得するコードを掲載します。"
   ]
  },
  {
   "cell_type": "code",
   "execution_count": 4,
   "metadata": {},
   "outputs": [
    {
     "data": {
      "text/plain": [
       "<td id=\"ebisu\">恵比寿</td>"
      ]
     },
     "execution_count": 4,
     "metadata": {},
     "output_type": "execute_result"
    }
   ],
   "source": [
    "# 恵比寿の HTML 要素の id を指定して検索する\n",
    "ebisu = html.find(id=\"ebisu\")\n",
    "ebisu"
   ]
  },
  {
   "cell_type": "markdown",
   "metadata": {},
   "source": [
    "目黒の HTML 要素を取得するコードを次のセルに実装してみてください。取得した HTML 要素は `meguro` という変数に入れてください。"
   ]
  },
  {
   "cell_type": "code",
   "execution_count": 5,
   "metadata": {},
   "outputs": [],
   "source": [
    "# 目黒の HTML 要素を取得するコードを実装する"
   ]
  },
  {
   "cell_type": "markdown",
   "metadata": {},
   "source": [
    "上手く取得できているか、次のセルを実行すると確認できます。\n",
    "\n",
    "最初はエラーが表示されていますが、 `meguro` の変数に目黒の HTML 要素を入れたうえで実行すればエラーが消えるはずです。\n",
    "\n",
    " `.string` で取得した HTML 要素の中にあるテキストを取得しています。これが冒頭の「 2. HTML 要素からデータを抽出する」に相当します。"
   ]
  },
  {
   "cell_type": "code",
   "execution_count": 6,
   "metadata": {},
   "outputs": [
    {
     "ename": "NameError",
     "evalue": "name 'meguro' is not defined",
     "output_type": "error",
     "traceback": [
      "\u001b[1;31m---------------------------------------------------------------------------\u001b[0m",
      "\u001b[1;31mNameError\u001b[0m                                 Traceback (most recent call last)",
      "Input \u001b[1;32mIn [6]\u001b[0m, in \u001b[0;36m<cell line: 1>\u001b[1;34m()\u001b[0m\n\u001b[1;32m----> 1\u001b[0m \u001b[38;5;28;01massert\u001b[39;00m \u001b[43mmeguro\u001b[49m\u001b[38;5;241m.\u001b[39mstring \u001b[38;5;241m==\u001b[39m \u001b[38;5;124m\"\u001b[39m\u001b[38;5;124m目黒\u001b[39m\u001b[38;5;124m\"\u001b[39m\n",
      "\u001b[1;31mNameError\u001b[0m: name 'meguro' is not defined"
     ]
    }
   ],
   "source": [
    "assert meguro.string == \"目黒\""
   ]
  },
  {
   "cell_type": "markdown",
   "metadata": {},
   "source": [
    "[`find`](https://www.crummy.com/software/BeautifulSoup/bs4/doc/#find) は、検索条件に一致する単一の要素を取得します。検索条件に当てはまる HTML 要素が複数ある場合は`find_all`を使います。"
   ]
  },
  {
   "cell_type": "code",
   "execution_count": 7,
   "metadata": {},
   "outputs": [
    {
     "data": {
      "text/plain": [
       "[<td id=\"oosaki\">大崎</td>,\n",
       " <td id=\"gotanda\">五反田</td>,\n",
       " <td class=\"aws\" id=\"meguro\">目黒</td>,\n",
       " <td id=\"ebisu\">恵比寿</td>,\n",
       " <td id=\"shibuya\">渋谷</td>]"
      ]
     },
     "execution_count": 7,
     "metadata": {},
     "output_type": "execute_result"
    }
   ],
   "source": [
    "html.find_all(\"td\")"
   ]
  },
  {
   "cell_type": "markdown",
   "metadata": {},
   "source": [
    "CSSの指定に慣れている方はCSSセレクタを使用した検索を`select`で行うことができます。"
   ]
  },
  {
   "cell_type": "code",
   "execution_count": 8,
   "metadata": {},
   "outputs": [
    {
     "data": {
      "text/plain": [
       "[<td class=\"aws\" id=\"meguro\">目黒</td>]"
      ]
     },
     "execution_count": 8,
     "metadata": {},
     "output_type": "execute_result"
    }
   ],
   "source": [
    "html.select(\".aws\")"
   ]
  },
  {
   "cell_type": "markdown",
   "metadata": {},
   "source": [
    "## Exercise2: 目的の HTML 要素へ移動する\n",
    "\n",
    "先程は確実な目印として `meguro` という `id` の属性がありましたがそれがない場合はどうすればよいでしょうか? 実際の HTML ではそうしたことが良くあります。"
   ]
  },
  {
   "cell_type": "code",
   "execution_count": 9,
   "metadata": {},
   "outputs": [],
   "source": [
    "html_content_without_id = \"\"\"\n",
    "<!DOCTYPE html>\n",
    "<html>\n",
    "   <head>\n",
    "      <style>\n",
    "         #yamanote table, td {border: 1px solid silver;}\n",
    "         .aws {font-weight:bold; color:#f78e00}\n",
    "      </style>\n",
    "   </head>\n",
    "   <body>\n",
    "      <table id=\"yamanote\">\n",
    "         <tr><td>大崎</td></tr>\n",
    "         <tr><td>五反田</td></tr>\n",
    "         <tr><td>目黒</td></tr>\n",
    "         <tr><td>恵比寿</td></tr>\n",
    "         <tr><td>渋谷</td></tr>\n",
    "      </div>\n",
    "   </body>\n",
    "<html>\n",
    "\"\"\""
   ]
  },
  {
   "cell_type": "markdown",
   "metadata": {},
   "source": [
    "この場合、近くの確実な目印まで一旦到達し、そこから移動して到達する方法が考えられます。\n",
    "\n",
    "1. 全ての駅の HTML 要素 ( `td` ) のうち、3 番目の要素を目黒として取得する。\n",
    "2. 「目黒」というてテキストを検索して、テキストが目黒である HTML 要素を取得する。\n",
    "\n",
    "実際に行ってみましょう。まず、 BeautifulSoup で HTML を読み込みます。"
   ]
  },
  {
   "cell_type": "code",
   "execution_count": 10,
   "metadata": {},
   "outputs": [],
   "source": [
    "html_without_id = BeautifulSoup(html_content_without_id.strip())"
   ]
  },
  {
   "cell_type": "markdown",
   "metadata": {},
   "source": [
    "目黒の手前の五反田に到達してみます。五反田は 2 つめですが、プログラムで指定する時は 0 番目を含むので 1 を指定します。"
   ]
  },
  {
   "cell_type": "code",
   "execution_count": 11,
   "metadata": {},
   "outputs": [
    {
     "data": {
      "text/plain": [
       "<td>五反田</td>"
      ]
     },
     "execution_count": 11,
     "metadata": {},
     "output_type": "execute_result"
    }
   ],
   "source": [
    "gotanda = html_without_id.find_all(\"td\")[1]\n",
    "gotanda"
   ]
  },
  {
   "cell_type": "markdown",
   "metadata": {},
   "source": [
    "`find_all` ですべての駅を検索し、 2 つめを五反田として取得しました。\n",
    "\n",
    "次に、五反田のテキストを検索し、五反田のテキストを含む HTML 要素を取得してみましょう。"
   ]
  },
  {
   "cell_type": "code",
   "execution_count": 12,
   "metadata": {},
   "outputs": [
    {
     "data": {
      "text/plain": [
       "<td>五反田</td>"
      ]
     },
     "execution_count": 12,
     "metadata": {},
     "output_type": "execute_result"
    }
   ],
   "source": [
    "gotanda = html_without_id.find(text=\"五反田\").parent\n",
    "gotanda"
   ]
  },
  {
   "cell_type": "markdown",
   "metadata": {},
   "source": [
    "`find` で五反田のテキストを検索し、 `parent` でテキストを含む(親となる) HTML 要素を取得しました。\n",
    "\n",
    "1 と 2 、お好きな方で目黒を取得してみてください。"
   ]
  },
  {
   "cell_type": "code",
   "execution_count": 13,
   "metadata": {},
   "outputs": [],
   "source": [
    "# 目黒の HTML 要素を取得するコードを実装する"
   ]
  },
  {
   "cell_type": "markdown",
   "metadata": {},
   "source": [
    "五反田のセル (`<td>`) のさらに `parent` は、行 (`<tr>`) になります。 HTML のテーブルは、行 (`<tr>`) の中にセル (`<td>`) が何個かあるという形式で定義されています。"
   ]
  },
  {
   "cell_type": "code",
   "execution_count": 14,
   "metadata": {},
   "outputs": [
    {
     "data": {
      "text/plain": [
       "<tr><td>五反田</td></tr>"
      ]
     },
     "execution_count": 14,
     "metadata": {},
     "output_type": "execute_result"
    }
   ],
   "source": [
    "gotanda.parent"
   ]
  },
  {
   "cell_type": "markdown",
   "metadata": {},
   "source": [
    "`parent` とは逆に、子となる要素は `children` / `contents` で取得できます。"
   ]
  },
  {
   "cell_type": "code",
   "execution_count": 15,
   "metadata": {},
   "outputs": [
    {
     "data": {
      "text/plain": [
       "['\\n',\n",
       " <tr><td>大崎</td></tr>,\n",
       " '\\n',\n",
       " <tr><td>五反田</td></tr>,\n",
       " '\\n',\n",
       " <tr><td>目黒</td></tr>,\n",
       " '\\n',\n",
       " <tr><td>恵比寿</td></tr>,\n",
       " '\\n',\n",
       " <tr><td>渋谷</td></tr>,\n",
       " '\\n',\n",
       " '\\n']"
      ]
     },
     "execution_count": 15,
     "metadata": {},
     "output_type": "execute_result"
    }
   ],
   "source": [
    "html_without_id.find(\"table\").contents"
   ]
  },
  {
   "cell_type": "markdown",
   "metadata": {},
   "source": [
    "隣の要素へは `next_element` や `previous_element` で移動できます。五反田の行はセルが 1 つしかないので隣はない気がしますが、セルの `<td>` タグの隣にある 「五反田」 のテキストが取得されます。 "
   ]
  },
  {
   "cell_type": "code",
   "execution_count": 16,
   "metadata": {},
   "outputs": [
    {
     "data": {
      "text/plain": [
       "'五反田'"
      ]
     },
     "execution_count": 16,
     "metadata": {},
     "output_type": "execute_result"
    }
   ],
   "source": [
    "gotanda.next_element"
   ]
  },
  {
   "cell_type": "markdown",
   "metadata": {},
   "source": [
    "同じ親を持つ兄弟要素を取得するには `next_sibling` 、 `previous_sibling` を使います。 五反田の行 `<tr>` の隣は目黒の行という気がしますが、テキスト要素も含むため隣の改行文字が取得されます。"
   ]
  },
  {
   "cell_type": "code",
   "execution_count": 17,
   "metadata": {},
   "outputs": [
    {
     "data": {
      "text/plain": [
       "'\\n'"
      ]
     },
     "execution_count": 17,
     "metadata": {},
     "output_type": "execute_result"
    }
   ],
   "source": [
    "gotanda.parent.next_sibling"
   ]
  },
  {
   "cell_type": "markdown",
   "metadata": {},
   "source": [
    "あまりきれいでない HTML の場合、 `next` や `previous` でなにが取得されるか予想は困難です。そのため、 `find_next` や `find_previous` 、 `find_next_siblings` や `find_previous_siblings` で意図した要素を指定して検索することをお勧めします。 `find_next` と `find_previous` は内部的に `next_element` / `previous_element` を使っており、`find_next_siblings` と `find_previous_siblings` は `next_siblings` / `previous_siblings` を使っています。"
   ]
  },
  {
   "cell_type": "code",
   "execution_count": 18,
   "metadata": {},
   "outputs": [
    {
     "data": {
      "text/plain": [
       "<tr><td>目黒</td></tr>"
      ]
     },
     "execution_count": 18,
     "metadata": {},
     "output_type": "execute_result"
    }
   ],
   "source": [
    "gotanda.parent.find_next(\"tr\")"
   ]
  }
 ],
 "metadata": {
  "interpreter": {
   "hash": "9e92602f210dc61ccc424c74f06e3d050a4530807035fa2e9f9fdb5f45ecdbb6"
  },
  "kernelspec": {
   "display_name": "Python 3.10.6 64-bit ('jpx-frde': conda)",
   "language": "python",
   "name": "python3"
  },
  "language_info": {
   "codemirror_mode": {
    "name": "ipython",
    "version": 3
   },
   "file_extension": ".py",
   "mimetype": "text/x-python",
   "name": "python",
   "nbconvert_exporter": "python",
   "pygments_lexer": "ipython3",
   "version": "3.10.6"
  },
  "orig_nbformat": 4
 },
 "nbformat": 4,
 "nbformat_minor": 2
}
